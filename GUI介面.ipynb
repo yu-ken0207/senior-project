{
 "cells": [
  {
   "cell_type": "code",
   "execution_count": 1,
   "id": "affecting-syndication",
   "metadata": {},
   "outputs": [],
   "source": [
    "import tkinter as tk\n",
    "import math\n",
    "\n",
    "window = tk.Tk()\n",
    "window.title('BMI App')\n",
    "window.geometry('380x260')\n",
    "\n",
    "#-------------------------------------------------\n",
    "def calculate_bmi_number():\n",
    "    height = float(height_entry.get())\n",
    "    weight = float(weight_entry.get())\n",
    "    bmi_value = round(weight / math.pow((height/100), 2), 2)\n",
    "    result = '你的 BMI 指數為：{} {}'.format(bmi_value, get_bmi_status_description(bmi_value))\n",
    "    result_label.configure(text=result)\n",
    "#-------------------------------------------------\n",
    "def get_bmi_status_description(bmi_value):\n",
    "    if bmi_value < 18.5:\n",
    "        return '體重過輕囉，多吃點！'\n",
    "    elif bmi_value >= 18.5 and bmi_value < 24:\n",
    "        return '體重剛剛好，繼續保持！'\n",
    "    elif bmi_value >= 24 :\n",
    "        return '體重有點過重囉，少吃多運動！'\n",
    "#-------------------------------------------------\n",
    "header_label = tk.Label(window, text='BMI 計算器')\n",
    "header_label.pack()\n",
    "#-------------------------------------------------\n",
    "height_frame = tk.Frame(window)\n",
    "height_frame.pack()\n",
    "\n",
    "height_label = tk.Label(height_frame, text='身高（cm）')\n",
    "height_label.pack()\n",
    "\n",
    "height_entry = tk.Entry(height_frame)\n",
    "height_entry.pack()\n",
    "#-------------------------------------------------\n",
    "weight_frame = tk.Frame(window)\n",
    "weight_frame.pack()\n",
    "\n",
    "weight_label = tk.Label(weight_frame, text='體重（kg）')\n",
    "weight_label.pack()\n",
    "\n",
    "weight_entry = tk.Entry(weight_frame)\n",
    "weight_entry.pack()\n",
    "\n",
    "result_label = tk.Label(window)\n",
    "result_label.pack()\n",
    "#-------------------------------------------------\n",
    "calculate_btn = tk.Button(window, text='馬上計算', command=calculate_bmi_number)\n",
    "calculate_btn.pack()\n",
    "#-------------------------------------------------\n",
    "window.mainloop()\n",
    "\n",
    "\n"
   ]
  },
  {
   "cell_type": "code",
   "execution_count": null,
   "id": "falling-sterling",
   "metadata": {},
   "outputs": [],
   "source": []
  }
 ],
 "metadata": {
  "kernelspec": {
   "display_name": "Python 3 (ipykernel)",
   "language": "python",
   "name": "python3"
  },
  "language_info": {
   "codemirror_mode": {
    "name": "ipython",
    "version": 3
   },
   "file_extension": ".py",
   "mimetype": "text/x-python",
   "name": "python",
   "nbconvert_exporter": "python",
   "pygments_lexer": "ipython3",
   "version": "3.8.11"
  }
 },
 "nbformat": 4,
 "nbformat_minor": 5
}
