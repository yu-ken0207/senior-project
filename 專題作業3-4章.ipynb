{
 "cells": [
  {
   "cell_type": "code",
   "execution_count": 1,
   "id": "contemporary-liechtenstein",
   "metadata": {},
   "outputs": [
    {
     "name": "stdout",
     "output_type": "stream",
     "text": [
      "請問你是??123\n",
      "123你好~\n"
     ]
    }
   ],
   "source": [
    "#第一題\n",
    "name = input(\"請問你是??\")\n",
    "print(name + \"你好~\")"
   ]
  },
  {
   "cell_type": "code",
   "execution_count": null,
   "id": "specific-senior",
   "metadata": {},
   "outputs": [],
   "source": [
    "\n",
    "#---------------------------------------------------------------------------\n"
   ]
  },
  {
   "cell_type": "code",
   "execution_count": 2,
   "id": "synthetic-stress",
   "metadata": {},
   "outputs": [
    {
     "name": "stdout",
     "output_type": "stream",
     "text": [
      "apple orange banana 很好吃\n"
     ]
    }
   ],
   "source": [
    "#第二題\n",
    "print('apple','orange','banana','很好吃')"
   ]
  },
  {
   "cell_type": "code",
   "execution_count": 3,
   "id": "atomic-guest",
   "metadata": {},
   "outputs": [
    {
     "name": "stdout",
     "output_type": "stream",
     "text": [
      "apple，orange，banana 很好吃"
     ]
    }
   ],
   "source": [
    "#第二題\n",
    "print('apple','orange','banana',sep='，',end=' 很好吃')  #sep=字串中的間隔  end=結尾"
   ]
  },
  {
   "cell_type": "code",
   "execution_count": 20,
   "id": "pregnant-interference",
   "metadata": {},
   "outputs": [
    {
     "name": "stdout",
     "output_type": "stream",
     "text": [
      "2 和 3 相乘結果是 6\n"
     ]
    }
   ],
   "source": [
    "#第二題\n",
    "a,b= 2,3\n",
    "print(a,'和',b,'相乘結果是',a*b)"
   ]
  },
  {
   "cell_type": "code",
   "execution_count": 4,
   "id": "hawaiian-nelson",
   "metadata": {},
   "outputs": [
    {
     "name": "stdout",
     "output_type": "stream",
     "text": [
      "2和3相乘結果是6\n"
     ]
    }
   ],
   "source": [
    "#第三題\n",
    "a,b= 2,3\n",
    "print(f'{a}和{b}相乘結果是{a*b}')  #     f'{大誇號裡可以放變數貨運算式}'"
   ]
  },
  {
   "cell_type": "code",
   "execution_count": 6,
   "id": "banned-george",
   "metadata": {},
   "outputs": [
    {
     "name": "stdout",
     "output_type": "stream",
     "text": [
      "2和3相乘結果是 6\n"
     ]
    }
   ],
   "source": [
    "#第三題\n",
    "a,b= 2,3\n",
    "print(f'{a}和{b}相乘結果是{a*b:2d}')  #   5表示有5個位元，1表示小數點後幾位，f表示是浮點數float，d(整數)，s(字串)"
   ]
  },
  {
   "cell_type": "code",
   "execution_count": null,
   "id": "broad-delhi",
   "metadata": {},
   "outputs": [],
   "source": [
    "\n",
    "#-------------------------------------------------------------------------------\n"
   ]
  },
  {
   "cell_type": "code",
   "execution_count": 1,
   "id": "fitting-acquisition",
   "metadata": {},
   "outputs": [
    {
     "name": "stdout",
     "output_type": "stream",
     "text": [
      "1\n",
      "4\n"
     ]
    }
   ],
   "source": [
    "#第四題\n",
    "a=0\n",
    "if a < 1:\n",
    "    a += 1\n",
    "    b = a +3\n",
    "    print(a)\n",
    "print(b)"
   ]
  },
  {
   "cell_type": "code",
   "execution_count": 40,
   "id": "solved-broadcasting",
   "metadata": {},
   "outputs": [
    {
     "name": "stdout",
     "output_type": "stream",
     "text": [
      "1\n"
     ]
    }
   ],
   "source": [
    "a=0\n",
    "if a < 1: a+=1\n",
    "print(a)"
   ]
  },
  {
   "cell_type": "code",
   "execution_count": 13,
   "id": "gorgeous-springer",
   "metadata": {
    "scrolled": true
   },
   "outputs": [
    {
     "name": "stdout",
     "output_type": "stream",
     "text": [
      "C\n"
     ]
    }
   ],
   "source": [
    "#第五題\n",
    "a = 70 \n",
    "if a > 90:\n",
    "    gra =\"A\"\n",
    "elif a >= 80:\n",
    "    gra =\"B\"\n",
    "elif a >= 70:\n",
    "    gra =\"C\"\n",
    "else: \n",
    "    gra =\"D\"\n",
    "\n",
    "print(gra)"
   ]
  },
  {
   "cell_type": "code",
   "execution_count": 9,
   "id": "virtual-reaction",
   "metadata": {},
   "outputs": [
    {
     "name": "stdout",
     "output_type": "stream",
     "text": [
      "輸入溫度:15\n",
      "攝氏15.0度等於華氏+59.0度\n",
      "華氏15.0度等於攝氏 -9.4度\n"
     ]
    }
   ],
   "source": [
    "#第六題\n",
    "s = input('輸入溫度:')\n",
    "if s.count('.')>1:\n",
    "    print(\"只能有一個小數點\")\n",
    "elif s[1:].replace('.','').isdigit():\n",
    "    if s[0]=='-'or s[0].isdigit():\n",
    "        temp = float(s)\n",
    "        print(f'攝氏{temp}度等於華氏{(temp*9/5)+32:+5.1f}度')\n",
    "        print(f'華氏{temp}度等於攝氏{(temp-32)*5/9:+5.1f}度')\n",
    "    else:\n",
    "        print('只能以數字或負號開頭')\n",
    "else:\n",
    "    print('數字無法轉換')"
   ]
  },
  {
   "cell_type": "code",
   "execution_count": 54,
   "id": "confused-bottle",
   "metadata": {},
   "outputs": [
    {
     "name": "stdout",
     "output_type": "stream",
     "text": [
      "80.0\n"
     ]
    }
   ],
   "source": [
    "#第七題\n",
    "price = 100\n",
    "price = price *0.8    if price >99     else price *0.9\n",
    "print(price)"
   ]
  },
  {
   "cell_type": "code",
   "execution_count": null,
   "id": "anonymous-system",
   "metadata": {},
   "outputs": [],
   "source": [
    "\n",
    "#-------------------------------------------------------------------------------\n"
   ]
  },
  {
   "cell_type": "code",
   "execution_count": 18,
   "id": "hired-making",
   "metadata": {},
   "outputs": [
    {
     "name": "stdout",
     "output_type": "stream",
     "text": [
      "1 2 3 4 6 7 8 9 10 結束\n"
     ]
    }
   ],
   "source": [
    "#第八題\n",
    "i = 1\n",
    "while True:\n",
    "    if i == 5:\n",
    "        i += 1\n",
    "        continue\n",
    "    print(i, end = \" \")\n",
    "    if i == 10:\n",
    "        break\n",
    "    i+= 1\n",
    "    \n",
    "print(\"結束\")"
   ]
  },
  {
   "cell_type": "code",
   "execution_count": 10,
   "id": "simplified-equipment",
   "metadata": {},
   "outputs": [
    {
     "name": "stdout",
     "output_type": "stream",
     "text": [
      "請輸入正確數值1\n",
      "答錯~\n",
      "請輸入正確數值2\n",
      "答錯~\n",
      "請輸入正確數值123\n",
      "正確\n"
     ]
    }
   ],
   "source": [
    "#第九題\n",
    "i = ''\n",
    "while i != '123':\n",
    "    \n",
    "    if i != '':\n",
    "        print('答錯~')\n",
    "    i= input('請輸入正確數值')\n",
    "    \n",
    "    if i == '00':\n",
    "        break\n",
    "else :\n",
    "    print('正確')"
   ]
  },
  {
   "cell_type": "code",
   "execution_count": null,
   "id": "utility-reduction",
   "metadata": {},
   "outputs": [],
   "source": [
    "\n",
    "#-------------------------------------------------------------------------------\n"
   ]
  },
  {
   "cell_type": "code",
   "execution_count": 20,
   "id": "random-tomorrow",
   "metadata": {},
   "outputs": [
    {
     "name": "stdout",
     "output_type": "stream",
     "text": [
      "1 2 3 4 5 "
     ]
    }
   ],
   "source": [
    "#第十題\n",
    "s = [1,2,3,4,5]\n",
    "for i in s :\n",
    "    print(i,end=\" \")"
   ]
  },
  {
   "cell_type": "code",
   "execution_count": 21,
   "id": "collected-terrorist",
   "metadata": {},
   "outputs": [
    {
     "name": "stdout",
     "output_type": "stream",
     "text": [
      "1\n",
      "2\n",
      "3\n",
      "4\n",
      "5\n"
     ]
    }
   ],
   "source": [
    "#第十題\n",
    "s = [1,2,3,4,5]\n",
    "for i in s :\n",
    "    print(i)"
   ]
  },
  {
   "cell_type": "code",
   "execution_count": 85,
   "id": "direct-protocol",
   "metadata": {},
   "outputs": [
    {
     "name": "stdout",
     "output_type": "stream",
     "text": [
      "[1, 2, 3, 4, 5]\n",
      "[6, 7, 8, 9, 0]\n"
     ]
    }
   ],
   "source": [
    "#第十題\n",
    "s = [1,2,3,4,5]\n",
    "d = [6,7,8,9,0]\n",
    "for i in s,d :\n",
    "    print(i,end=\"\\n\")"
   ]
  },
  {
   "cell_type": "code",
   "execution_count": 90,
   "id": "lesser-hollywood",
   "metadata": {},
   "outputs": [
    {
     "name": "stdout",
     "output_type": "stream",
     "text": [
      "a\n",
      "b\n",
      "c\n",
      "------\n",
      "('a', 0)\n",
      "('b', 1)\n",
      "('c', 2)\n",
      "------\n",
      "0\n",
      "1\n",
      "2\n",
      "------\n",
      "a\n",
      "b\n",
      "c\n"
     ]
    }
   ],
   "source": [
    "#第11題\n",
    "d= {'a':0,'b':1,\"c\":2}\n",
    "\n",
    "for i in d:\n",
    "    print(i)\n",
    "print('------')\n",
    "for i in d.items():\n",
    "    print(i)\n",
    "print('------')\n",
    "for i in d.values():\n",
    "    print(i)\n",
    "print('------')\n",
    "for i in d.keys():\n",
    "    print(i)"
   ]
  },
  {
   "cell_type": "code",
   "execution_count": 11,
   "id": "global-rwanda",
   "metadata": {},
   "outputs": [
    {
     "name": "stdout",
     "output_type": "stream",
     "text": [
      "1 2 3 4 6 7 8 9 10 "
     ]
    }
   ],
   "source": [
    "#第12題\n",
    "for i in range(1,20):\n",
    "    if i == 5:\n",
    "        continue\n",
    "    print(i,end=' ')\n",
    "    if i == 10 :\n",
    "        break"
   ]
  },
  {
   "cell_type": "code",
   "execution_count": 12,
   "id": "existing-talent",
   "metadata": {},
   "outputs": [
    {
     "name": "stdout",
     "output_type": "stream",
     "text": [
      "1X1= 1  1X2= 2  1X3= 3  1X4= 4  1X5= 5  1X6= 6  1X7= 7  1X8= 8  1X9= 9  \n",
      "2X1= 2  2X2= 4  2X3= 6  2X4= 8  2X5=10  2X6=12  2X7=14  2X8=16  2X9=18  \n",
      "3X1= 3  3X2= 6  3X3= 9  3X4=12  3X5=15  3X6=18  3X7=21  3X8=24  3X9=27  \n",
      "4X1= 4  4X2= 8  4X3=12  4X4=16  4X5=20  4X6=24  4X7=28  4X8=32  4X9=36  \n",
      "5X1= 5  5X2=10  5X3=15  5X4=20  5X5=25  5X6=30  5X7=35  5X8=40  5X9=45  \n",
      "6X1= 6  6X2=12  6X3=18  6X4=24  6X5=30  6X6=36  6X7=42  6X8=48  6X9=54  \n",
      "7X1= 7  7X2=14  7X3=21  7X4=28  7X5=35  7X6=42  7X7=49  7X8=56  7X9=63  \n",
      "8X1= 8  8X2=16  8X3=24  8X4=32  8X5=40  8X6=48  8X7=56  8X8=64  8X9=72  \n",
      "9X1= 9  9X2=18  9X3=27  9X4=36  9X5=45  9X6=54  9X7=63  9X8=72  9X9=81  \n"
     ]
    }
   ],
   "source": [
    "#第13題\n",
    "for i in range(1,10):\n",
    "    for j in range(1,10):\n",
    "        print(f'{i}X{j}={j*i:2d}',end='  ')\n",
    "    print()"
   ]
  },
  {
   "cell_type": "code",
   "execution_count": 13,
   "id": "thirty-portuguese",
   "metadata": {},
   "outputs": [
    {
     "name": "stdout",
     "output_type": "stream",
     "text": [
      "[(1, 'a'), (2, 'b'), (3, 'c'), (4, 'd'), (5, 'e'), (6, 'f')]\n",
      "0 a ,   1 b ,   2 c ,   3 d ,   4 e ,   5 f ,   "
     ]
    }
   ],
   "source": [
    "#第14題\n",
    "a= ('a','b','c','d','e','f')\n",
    "print(list(enumerate(a,1)))\n",
    "\n",
    "for i ,j in enumerate(a):\n",
    "    print(i,j,end=' ,   ')"
   ]
  },
  {
   "cell_type": "code",
   "execution_count": 103,
   "id": "crazy-consultation",
   "metadata": {},
   "outputs": [
    {
     "name": "stdout",
     "output_type": "stream",
     "text": [
      "紅茶 35 元,建議甜點 餅乾\n",
      "咖啡 50 元,建議甜點 蛋糕\n",
      "果汁 65 元,建議甜點 三明治\n"
     ]
    }
   ],
   "source": [
    "#第15題\n",
    "a = (\"紅茶\",'咖啡','果汁')\n",
    "b = ('35','50','65')\n",
    "c = ('餅乾','蛋糕','三明治','鬆餅','糖果')\n",
    "for a,b,c in zip(a,b,c):\n",
    "    print(a,b,'元,建議甜點',c)"
   ]
  },
  {
   "cell_type": "code",
   "execution_count": 104,
   "id": "duplicate-niagara",
   "metadata": {},
   "outputs": [
    {
     "name": "stdout",
     "output_type": "stream",
     "text": [
      "<class 'generator'>\n",
      "(1, 4, 9, 16, 25)\n",
      "()\n"
     ]
    }
   ],
   "source": [
    "#第16題\n",
    "a= (i*i for i in range (1,6))\n",
    "print(type(a))\n",
    "print(tuple(a))\n",
    "print(tuple(a))"
   ]
  },
  {
   "cell_type": "code",
   "execution_count": 14,
   "id": "traditional-boulder",
   "metadata": {},
   "outputs": [
    {
     "name": "stdout",
     "output_type": "stream",
     "text": [
      "[1, 2, 3, 5, 6, 7, 8, 9]\n",
      "[1, 2, 3, 5, 6, 7, 8, 9]\n"
     ]
    }
   ],
   "source": [
    "#第17題\n",
    "a = [[1,2,3],[4,5,6],[7,8,9]]\n",
    "b=[]\n",
    "for i in a:\n",
    "    for j in i:\n",
    "        if j != 4:\n",
    "            b.append(j)\n",
    "print(b)\n",
    "\n",
    "#--------------------------\n",
    "\n",
    "print([j    for i in a     for j in i     if j != 4 ])\n",
    "#           外層for         中間for        內層判斷式"
   ]
  },
  {
   "cell_type": "code",
   "execution_count": null,
   "id": "confused-patio",
   "metadata": {},
   "outputs": [],
   "source": [
    "\n",
    "#-------------------------------------------------------------------------------\n"
   ]
  },
  {
   "cell_type": "code",
   "execution_count": 15,
   "id": "clinical-macro",
   "metadata": {},
   "outputs": [
    {
     "ename": "ValueError",
     "evalue": "invalid literal for int() with base 10: 'a'",
     "output_type": "error",
     "traceback": [
      "\u001b[1;31m---------------------------------------------------------------------------\u001b[0m",
      "\u001b[1;31mValueError\u001b[0m                                Traceback (most recent call last)",
      "\u001b[1;32m<ipython-input-15-233884bacd4e>\u001b[0m in \u001b[0;36m<module>\u001b[1;34m\u001b[0m\n\u001b[1;32m----> 1\u001b[1;33m \u001b[0mint\u001b[0m\u001b[1;33m(\u001b[0m\u001b[1;34m'a'\u001b[0m\u001b[1;33m)\u001b[0m\u001b[1;33m\u001b[0m\u001b[1;33m\u001b[0m\u001b[0m\n\u001b[0m",
      "\u001b[1;31mValueError\u001b[0m: invalid literal for int() with base 10: 'a'"
     ]
    }
   ],
   "source": [
    "int('a')"
   ]
  },
  {
   "cell_type": "code",
   "execution_count": 16,
   "id": "liberal-conjunction",
   "metadata": {},
   "outputs": [
    {
     "name": "stdout",
     "output_type": "stream",
     "text": [
      "發生例外\n",
      "invalid literal for int() with base 10: 'a'\n",
      "結束\n"
     ]
    }
   ],
   "source": [
    "s = 'a'                            # try:  如果發生例外 \n",
    "try :                              # except: 就執行except\n",
    "    i = int(s)\n",
    "    print('沒發生例外')\n",
    "except ValueError as a1:            #抓值得錯誤例外\n",
    "    print(\"發生例外\")\n",
    "    \n",
    "    print(a1)\n",
    "    \n",
    "print(\"結束\")\n"
   ]
  },
  {
   "cell_type": "code",
   "execution_count": 11,
   "id": "pressed-motivation",
   "metadata": {},
   "outputs": [],
   "source": [
    "\n",
    "#-------------------------------------------------------------------------------\n"
   ]
  },
  {
   "cell_type": "code",
   "execution_count": 17,
   "id": "entitled-boutique",
   "metadata": {},
   "outputs": [
    {
     "name": "stdout",
     "output_type": "stream",
     "text": [
      "Hellow world\n",
      "輸入的值是123\n",
      "ABCabc你好\n",
      "ABCabc你好\n",
      "ABCabc\n",
      "abc123\n",
      "123456\n",
      "789456\n",
      "12 8 15 "
     ]
    }
   ],
   "source": [
    "def hellow():\n",
    "    print('Hellow world')\n",
    "    \n",
    "def hi(a):\n",
    "    print('輸入的值是'+a)\n",
    "    \n",
    "def hi2(a1,b1):\n",
    "    print(a1+b1+'你好')\n",
    "    \n",
    "def hi3(a1,b1,c1='你好'):\n",
    "    print(a1+b1+c1)\n",
    "def re1(a2,b2):\n",
    "    return(a2+b2)   #回傳值，如果無法回傳值，會回傳None\n",
    "\n",
    "\n",
    "s = [(3,4),(2,4),(5,3)]\n",
    "def calc(w,h):\n",
    "    return w*h\n",
    "def calcAll(conta,func):\n",
    "    for r in conta:\n",
    "        print(func(r[0],r[1]),end=' ')\n",
    "        \n",
    "        \n",
    "hellow()\n",
    "hi('123')\n",
    "hi2('ABC','abc')\n",
    "hi3('ABC','abc')\n",
    "hi3('ABC','',c1='abc')  #位置參數，指名參數\n",
    "hi3(c1='123',b1='',a1='abc') #名稱指定，位置不用照順序\n",
    "#hi3(c1='abc','ABC','')   位置參數要在前\n",
    "\n",
    "print(re1(\"123\",\"456\"))\n",
    "\n",
    "a=(re1(\"789\",\"456\"))\n",
    "print(a)\n",
    "\n",
    "calcAll(s,calc)"
   ]
  },
  {
   "cell_type": "code",
   "execution_count": null,
   "id": "impaired-terrain",
   "metadata": {},
   "outputs": [],
   "source": [
    "\n",
    "#-------------------------------------------------------------------------------\n"
   ]
  },
  {
   "cell_type": "code",
   "execution_count": 18,
   "id": "confused-cardiff",
   "metadata": {},
   "outputs": [
    {
     "name": "stdout",
     "output_type": "stream",
     "text": [
      "加總 (1, 2, 3, 4) = 10\n",
      "飲料 {'紅茶': 40, '咖啡': 70, '果汁': 85}\n"
     ]
    }
   ],
   "source": [
    "def prn(name, *args):\n",
    "    print(name ,args ,'=',sum(args))\n",
    "    \n",
    "def prnPrice(name,**kwargs):\n",
    "    print(name,kwargs)\n",
    "    \n",
    "prn('加總',1,2,3,4)\n",
    "\n",
    "\n",
    "prnPrice('飲料',紅茶=40,咖啡=70,果汁=85)\n",
    "\n"
   ]
  },
  {
   "cell_type": "code",
   "execution_count": 19,
   "id": "employed-capture",
   "metadata": {},
   "outputs": [
    {
     "name": "stdout",
     "output_type": "stream",
     "text": [
      "12 8 15 \n",
      "12 8 15 "
     ]
    }
   ],
   "source": [
    "s = [(3,4),(2,4),(5,3)]\n",
    "def calc(w,h):\n",
    "    return w*h\n",
    "def calcAll(conta,func):\n",
    "    for r in conta:\n",
    "        print(func(r[0],r[1]),end=' ')\n",
    "        \n",
    "calcAll(s,calc)\n",
    "\n",
    "print(end='\\n')\n",
    "#----------------------\n",
    "\n",
    "\n",
    "def calcAll1(recets,func):\n",
    "    for r in recets:\n",
    "        print(func(r[0],r[1]),end=' ')\n",
    "calcAll1(s,lambda w , h :w*h)"
   ]
  },
  {
   "cell_type": "code",
   "execution_count": 20,
   "id": "tired-statistics",
   "metadata": {},
   "outputs": [
    {
     "name": "stdout",
     "output_type": "stream",
     "text": [
      "2 3 1\n",
      "1 1 1\n"
     ]
    }
   ],
   "source": [
    "a =b =c =1\n",
    "def test(b):\n",
    "    a = 2\n",
    "    print(a,b,c)\n",
    "test(3)\n",
    "print(a,b,c)"
   ]
  },
  {
   "cell_type": "code",
   "execution_count": 54,
   "id": "commercial-reach",
   "metadata": {},
   "outputs": [
    {
     "name": "stdout",
     "output_type": "stream",
     "text": [
      "2 3 33\n",
      "1 1 33\n"
     ]
    }
   ],
   "source": [
    "a =b =c =1\n",
    "def test(b):\n",
    "    \n",
    "    global c\n",
    "    a = 2\n",
    "    c = 33\n",
    "    \n",
    "    print(a,b,c)\n",
    "test(3)\n",
    "print(a,b,c)"
   ]
  },
  {
   "cell_type": "code",
   "execution_count": null,
   "id": "reverse-petite",
   "metadata": {},
   "outputs": [],
   "source": []
  }
 ],
 "metadata": {
  "kernelspec": {
   "display_name": "Python 3 (ipykernel)",
   "language": "python",
   "name": "python3"
  },
  "language_info": {
   "codemirror_mode": {
    "name": "ipython",
    "version": 3
   },
   "file_extension": ".py",
   "mimetype": "text/x-python",
   "name": "python",
   "nbconvert_exporter": "python",
   "pygments_lexer": "ipython3",
   "version": "3.8.11"
  }
 },
 "nbformat": 4,
 "nbformat_minor": 5
}
